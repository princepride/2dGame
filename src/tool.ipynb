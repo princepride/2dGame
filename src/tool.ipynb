{
 "cells": [
  {
   "cell_type": "code",
   "execution_count": 4,
   "metadata": {},
   "outputs": [],
   "source": [
    "from PIL import Image\n",
    "\n",
    "# Open the image\n",
    "image = Image.open(\"download.jpeg\")\n",
    "\n",
    "# Resize the image\n",
    "size = 80\n",
    "new_size = (size, size)\n",
    "image = image.resize(new_size)\n",
    "\n",
    "# Save the resized image\n",
    "image.save(\"resized_image_\"+str(size)+\"x\"+str(size)+\".png\")"
   ]
  }
 ],
 "metadata": {
  "kernelspec": {
   "display_name": "base",
   "language": "python",
   "name": "python3"
  },
  "language_info": {
   "codemirror_mode": {
    "name": "ipython",
    "version": 3
   },
   "file_extension": ".py",
   "mimetype": "text/x-python",
   "name": "python",
   "nbconvert_exporter": "python",
   "pygments_lexer": "ipython3",
   "version": "3.9.13"
  },
  "orig_nbformat": 4,
  "vscode": {
   "interpreter": {
    "hash": "6d1820d8265b6d35a67df518827cee7761a842f6395c0de601fdb9a617dd62ff"
   }
  }
 },
 "nbformat": 4,
 "nbformat_minor": 2
}
